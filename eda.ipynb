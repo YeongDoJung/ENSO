{
 "cells": [
  {
   "cell_type": "code",
   "execution_count": 12,
   "metadata": {},
   "outputs": [
    {
     "name": "stdout",
     "output_type": "stream",
     "text": [
      "<class 'netCDF4._netCDF4.Dataset'>\n",
      "root group (NETCDF3_CLASSIC data model, file format NETCDF3):\n",
      "    CDI: Climate Data Interface version 1.6.3 (http://code.zmaw.de/projects/cdi)\n",
      "    Conventions: CF-1.4\n",
      "    history: Wed Oct 16 10:53:53 2019: cdo -f nc import_binary set/godas.nino.single.1980_2017.ctl nc/godas.nino.single.1980_2017.nc\n",
      "    CDO: Climate Data Operators version 1.6.3 (http://code.zmaw.de/projects/cdo)\n",
      "    dimensions(sizes): lon(1), lat(1), lev(23), time(456)\n",
      "    variables(dimensions): float64 lon(lon), float64 lat(lat), float64 lev(lev), float64 time(time), float32 pr(time,lev,lat,lon)\n",
      "    groups: \n"
     ]
    },
    {
     "name": "stderr",
     "output_type": "stream",
     "text": [
      "C:\\Users\\dudeh\\AppData\\Local\\Temp/ipykernel_2280/1827739142.py:10: DeprecationWarning: tostring() is deprecated. Use tobytes() instead.\n",
      "  print(f)\n"
     ]
    }
   ],
   "source": [
    "import netCDF4 as nc\n",
    "import numpy as np\n",
    "from torch import nn\n",
    "from pathlib import Path\n",
    "\n",
    "# fp = Path('D:\\code\\ENSO\\ENSO_Ham\\local\\Dataset\\Ham\\godas.label.1980_2017.nc')\n",
    "fp = Path('D:\\code\\ENSO\\ENSO_Ham\\local\\Dataset\\Ham\\cmip5_tr.input.1861_2001.nc')\n",
    "f = nc.Dataset(fp)\n",
    "\n",
    "print(f)"
   ]
  },
  {
   "cell_type": "code",
   "execution_count": 13,
   "metadata": {},
   "outputs": [
    {
     "name": "stdout",
     "output_type": "stream",
     "text": [
      "(23, 1, 1) [[[ 0.4004784 ]]\n",
      "\n",
      " [[ 0.35104367]]\n",
      "\n",
      " [[ 0.25611562]]\n",
      "\n",
      " [[-0.00316123]]\n",
      "\n",
      " [[-0.17915338]]\n",
      "\n",
      " [[-0.23393537]]\n",
      "\n",
      " [[-0.11901995]]\n",
      "\n",
      " [[-0.02676886]]\n",
      "\n",
      " [[-0.11765291]]\n",
      "\n",
      " [[-0.28168687]]\n",
      "\n",
      " [[-0.4446289 ]]\n",
      "\n",
      " [[-0.4562552 ]]\n",
      "\n",
      " [[-0.42807588]]\n",
      "\n",
      " [[-0.5100598 ]]\n",
      "\n",
      " [[-0.5834071 ]]\n",
      "\n",
      " [[-0.54853326]]\n",
      "\n",
      " [[-0.32800025]]\n",
      "\n",
      " [[-0.22937332]]\n",
      "\n",
      " [[-0.32843885]]\n",
      "\n",
      " [[-0.35620093]]\n",
      "\n",
      " [[-0.2784053 ]]\n",
      "\n",
      " [[-0.20480789]]\n",
      "\n",
      " [[-0.15050894]]]\n"
     ]
    },
    {
     "name": "stderr",
     "output_type": "stream",
     "text": [
      "C:\\Users\\dudeh\\AppData\\Local\\Temp/ipykernel_2280/779604125.py:2: DeprecationWarning: `np.bool` is a deprecated alias for the builtin `bool`. To silence this warning, use `bool` by itself. Doing this will not modify any behavior and is safe. If you specifically wanted the numpy scalar type, use `np.bool_` here.\n",
      "Deprecated in NumPy 1.20; for more details and guidance: https://numpy.org/devdocs/release/1.20.0-notes.html#deprecations\n",
      "  lk = np.array(ll)[1,:,:,:]\n"
     ]
    }
   ],
   "source": [
    "ll = f['pr']\n",
    "lk = np.array(ll)[1,:,:,:]\n",
    "\n",
    "print(lk.shape, lk)"
   ]
  },
  {
   "cell_type": "code",
   "execution_count": null,
   "metadata": {},
   "outputs": [],
   "source": []
  }
 ],
 "metadata": {
  "interpreter": {
   "hash": "d67d0f6f2aed9fe819e3c7c75ced2ce66c55c94683d7ae02f20dff5595116596"
  },
  "kernelspec": {
   "display_name": "Python 3.8.12 64-bit ('yd': conda)",
   "language": "python",
   "name": "python3"
  },
  "language_info": {
   "codemirror_mode": {
    "name": "ipython",
    "version": 3
   },
   "file_extension": ".py",
   "mimetype": "text/x-python",
   "name": "python",
   "nbconvert_exporter": "python",
   "pygments_lexer": "ipython3",
   "version": "3.8.12"
  },
  "orig_nbformat": 4
 },
 "nbformat": 4,
 "nbformat_minor": 2
}
